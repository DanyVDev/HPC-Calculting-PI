{
  "nbformat": 4,
  "nbformat_minor": 0,
  "metadata": {
    "colab": {
      "provenance": [],
      "authorship_tag": "ABX9TyP0pVwXkZb5h6QHpQz5O3Tt",
      "include_colab_link": true
    },
    "kernelspec": {
      "name": "python3",
      "display_name": "Python 3"
    },
    "language_info": {
      "name": "python"
    }
  },
  "cells": [
    {
      "cell_type": "markdown",
      "metadata": {
        "id": "view-in-github",
        "colab_type": "text"
      },
      "source": [
        "<a href=\"https://colab.research.google.com/github/DanyVDev/HPC-Calculting-PI/blob/main/Calculating_PI.ipynb\" target=\"_parent\"><img src=\"https://colab.research.google.com/assets/colab-badge.svg\" alt=\"Open In Colab\"/></a>"
      ]
    },
    {
      "cell_type": "markdown",
      "source": [
        "#Parallel Programming with Python\n",
        "##Daniel Valdes Artiles\n",
        "\n",
        "\n",
        "\n"
      ],
      "metadata": {
        "id": "8xNIuQ15PNvZ"
      }
    },
    {
      "cell_type": "code",
      "execution_count": 1,
      "metadata": {
        "colab": {
          "base_uri": "https://localhost:8080/"
        },
        "id": "GwutN2tILC91",
        "outputId": "f8550bc3-ffa5-4802-8db7-2cad09ef0b0e"
      },
      "outputs": [
        {
          "output_type": "stream",
          "name": "stdout",
          "text": [
            "Approximation of π: 3.1415926644818337\n"
          ]
        }
      ],
      "source": [
        "#Write a program in Pythonwhich solves the program without any parallelization.\n",
        "\n",
        "import math\n",
        "\n",
        "def quarter_circle_area(N):\n",
        "    delta_x = 1.0 / N\n",
        "    total_area = 0\n",
        "    for i in range(N):\n",
        "        x_i = (i + 0.5) * delta_x\n",
        "        total_area += delta_x * math.sqrt(1 - x_i ** 2)\n",
        "    return total_area\n",
        "\n",
        "def main():\n",
        "    # Number of rectangles (adjust for desired accuracy)\n",
        "    N = 100000\n",
        "    approx_pi = 4 * quarter_circle_area(N)\n",
        "\n",
        "    print(\"Approximation of π:\", approx_pi)\n",
        "\n",
        "if __name__ == \"__main__\":\n",
        "    main()"
      ]
    },
    {
      "cell_type": "code",
      "source": [
        "#Write a program in Python which uses parallel computing via multiprocessing to solve the problem.\n",
        "\n",
        "import math\n",
        "from multiprocessing import Pool\n",
        "\n",
        "def quarter_circle_area(i_N):\n",
        "    i, N = i_N\n",
        "    delta_x = 1.0 / N\n",
        "    x_i = (i + 0.5) * delta_x\n",
        "    return delta_x * math.sqrt(1 - x_i ** 2)\n",
        "\n",
        "def main():\n",
        "    # Number of rectangles (adjust for desired accuracy)\n",
        "    N = 100000\n",
        "    num_processes = 4  # Adjust as needed, depending on your system\n",
        "\n",
        "    # Create pool of worker processes\n",
        "    pool = Pool(num_processes)\n",
        "\n",
        "    # Create list of arguments for quarter_circle_area function\n",
        "    args_list = [(i, N) for i in range(N)]\n",
        "\n",
        "    # Compute areas in parallel\n",
        "    areas = pool.map(quarter_circle_area, args_list)\n",
        "\n",
        "    # Sum up the areas\n",
        "    total_area = sum(areas)\n",
        "\n",
        "    # Calculate approximation of π\n",
        "    approx_pi = 4 * total_area\n",
        "\n",
        "    print(\"Approximation of π:\", approx_pi)\n",
        "\n",
        "    # Close the pool of worker processes\n",
        "    pool.close()\n",
        "    pool.join()\n",
        "\n",
        "if __name__ == \"__main__\":\n",
        "    main()"
      ],
      "metadata": {
        "colab": {
          "base_uri": "https://localhost:8080/"
        },
        "id": "9-b3e3JcMaF4",
        "outputId": "7e9147c5-d395-4346-d497-86689e05d54a"
      },
      "execution_count": 2,
      "outputs": [
        {
          "output_type": "stream",
          "name": "stdout",
          "text": [
            "Approximation of π: 3.1415926644818337\n"
          ]
        }
      ]
    },
    {
      "cell_type": "code",
      "source": [
        "! pip install mpi4py"
      ],
      "metadata": {
        "colab": {
          "base_uri": "https://localhost:8080/"
        },
        "id": "476C3yh6N2Th",
        "outputId": "3173f9a3-f9e4-42cd-f226-03957ebff018"
      },
      "execution_count": 5,
      "outputs": [
        {
          "output_type": "stream",
          "name": "stdout",
          "text": [
            "Collecting mpi4py\n",
            "  Downloading mpi4py-3.1.6.tar.gz (2.4 MB)\n",
            "\u001b[?25l     \u001b[90m━━━━━━━━━━━━━━━━━━━━━━━━━━━━━━━━━━━━━━━━\u001b[0m \u001b[32m0.0/2.4 MB\u001b[0m \u001b[31m?\u001b[0m eta \u001b[36m-:--:--\u001b[0m\r\u001b[2K     \u001b[91m━━━━\u001b[0m\u001b[91m╸\u001b[0m\u001b[90m━━━━━━━━━━━━━━━━━━━━━━━━━━━━━━━━━━━\u001b[0m \u001b[32m0.3/2.4 MB\u001b[0m \u001b[31m8.3 MB/s\u001b[0m eta \u001b[36m0:00:01\u001b[0m\r\u001b[2K     \u001b[91m━━━━━━━━━━━━━━━━━━━━━━━━━━━━━━━━━━━━━━━\u001b[0m\u001b[91m╸\u001b[0m \u001b[32m2.4/2.4 MB\u001b[0m \u001b[31m45.6 MB/s\u001b[0m eta \u001b[36m0:00:01\u001b[0m\r\u001b[2K     \u001b[90m━━━━━━━━━━━━━━━━━━━━━━━━━━━━━━━━━━━━━━━━\u001b[0m \u001b[32m2.4/2.4 MB\u001b[0m \u001b[31m28.8 MB/s\u001b[0m eta \u001b[36m0:00:00\u001b[0m\n",
            "\u001b[?25h  Installing build dependencies ... \u001b[?25l\u001b[?25hdone\n",
            "  Getting requirements to build wheel ... \u001b[?25l\u001b[?25hdone\n",
            "  Preparing metadata (pyproject.toml) ... \u001b[?25l\u001b[?25hdone\n",
            "Building wheels for collected packages: mpi4py\n",
            "  Building wheel for mpi4py (pyproject.toml) ... \u001b[?25l\u001b[?25hdone\n",
            "  Created wheel for mpi4py: filename=mpi4py-3.1.6-cp310-cp310-linux_x86_64.whl size=2746312 sha256=ad9e4a280d0e3c683fc6ddfb5a7c7943da03937f6eb3e407f1f3597748f95a18\n",
            "  Stored in directory: /root/.cache/pip/wheels/4c/ca/89/8fc1fb1c620afca13bb41c630b1f948bbf446e0aaa4b762e10\n",
            "Successfully built mpi4py\n",
            "Installing collected packages: mpi4py\n",
            "Successfully installed mpi4py-3.1.6\n"
          ]
        }
      ]
    },
    {
      "cell_type": "code",
      "source": [
        "#Write a program in Python which uses distributed parallel computing via mi4pyto solve the problem.\n",
        "\n",
        "import math\n",
        "from mpi4py import MPI\n",
        "\n",
        "def quarter_circle_area(i, N, rank):\n",
        "    delta_x = 1.0 / N\n",
        "    x_i = (i + 0.5) * delta_x\n",
        "    return delta_x * math.sqrt(1 - x_i ** 2)\n",
        "\n",
        "def main():\n",
        "    comm = MPI.COMM_WORLD\n",
        "    rank = comm.Get_rank()\n",
        "    size = comm.Get_size()\n",
        "\n",
        "    # Number of rectangles (adjust for desired accuracy)\n",
        "    N = 100000\n",
        "    num_rectangles_per_process = N // size\n",
        "\n",
        "    # Calculate start and end indices for this process\n",
        "    start_index = rank * num_rectangles_per_process\n",
        "    end_index = start_index + num_rectangles_per_process\n",
        "\n",
        "    # Calculate areas for this process\n",
        "    local_areas = [quarter_circle_area(i, N, rank) for i in range(start_index, end_index)]\n",
        "\n",
        "    # Gather all local areas to the root process\n",
        "    global_areas = comm.gather(local_areas, root=0)\n",
        "\n",
        "    if rank == 0:\n",
        "        # Flatten the list of global areas\n",
        "        global_areas_flat = [area for sublist in global_areas for area in sublist]\n",
        "\n",
        "        # Sum up the areas\n",
        "        total_area = sum(global_areas_flat)\n",
        "\n",
        "        # Calculate approximation of π\n",
        "        approx_pi = 4 * total_area\n",
        "\n",
        "        print(\"Approximation of π:\", approx_pi)\n",
        "\n",
        "if __name__ == \"__main__\":\n",
        "    main()"
      ],
      "metadata": {
        "colab": {
          "base_uri": "https://localhost:8080/"
        },
        "id": "vmj2UH5iMzMa",
        "outputId": "d1366721-630d-495b-a5a0-3da69eb11265"
      },
      "execution_count": 6,
      "outputs": [
        {
          "output_type": "stream",
          "name": "stdout",
          "text": [
            "Approximation of π: 3.1415926644818337\n"
          ]
        }
      ]
    },
    {
      "cell_type": "markdown",
      "source": [
        "Evaluating Time\n"
      ],
      "metadata": {
        "id": "zTJJWervh9f0"
      }
    },
    {
      "cell_type": "code",
      "source": [
        "#Write a program in Pythonwhich solves the program without any parallelization.\n",
        "#Time Evaluation\n",
        "\n",
        "import math\n",
        "import time\n",
        "\n",
        "def quarter_circle_area(N):\n",
        "    delta_x = 1.0 / N\n",
        "    total_area = 0\n",
        "    for i in range(N):\n",
        "        x_i = (i + 0.5) * delta_x\n",
        "        total_area += delta_x * math.sqrt(1 - x_i ** 2)\n",
        "    return total_area\n",
        "\n",
        "def main():\n",
        "    # Define a range of values for N\n",
        "    N_values = [1000, 5000, 10000, 50000, 100000]\n",
        "\n",
        "    # Measure execution time for each value of N\n",
        "    for N in N_values:\n",
        "        start_time = time.time()\n",
        "        approx_pi = 4 * quarter_circle_area(N)\n",
        "        end_time = time.time()\n",
        "        execution_time = end_time - start_time\n",
        "        print(f\"N = {N}: Approximation of π = {approx_pi}, Execution Time = {execution_time:.6f} seconds\")\n",
        "\n",
        "if __name__ == \"__main__\":\n",
        "    main()\n"
      ],
      "metadata": {
        "colab": {
          "base_uri": "https://localhost:8080/"
        },
        "id": "BRMY17EQh_5V",
        "outputId": "f63c5bd5-c944-4090-9293-a13471ee1941"
      },
      "execution_count": 11,
      "outputs": [
        {
          "output_type": "stream",
          "name": "stdout",
          "text": [
            "N = 1000: Approximation of π = 3.1416035449129067, Execution Time = 0.000571 seconds\n",
            "N = 5000: Approximation of π = 3.1415936277920746, Execution Time = 0.005752 seconds\n",
            "N = 10000: Approximation of π = 3.1415929980246284, Execution Time = 0.007148 seconds\n",
            "N = 50000: Approximation of π = 3.141592684397157, Execution Time = 0.020989 seconds\n",
            "N = 100000: Approximation of π = 3.1415926644818337, Execution Time = 0.034429 seconds\n"
          ]
        }
      ]
    },
    {
      "cell_type": "code",
      "source": [
        "#Write a program in Python which uses parallel computing via multiprocessing to solve the problem.\n",
        "#Time Evaluation\n",
        "\n",
        "import math\n",
        "import time\n",
        "from multiprocessing import Pool\n",
        "\n",
        "def quarter_circle_area(i_N):\n",
        "    i, N = i_N\n",
        "    delta_x = 1.0 / N\n",
        "    x_i = (i + 0.5) * delta_x\n",
        "    return delta_x * math.sqrt(1 - x_i ** 2)\n",
        "\n",
        "def main():\n",
        "    # Define a range of values for N\n",
        "    N_values = [1000, 5000, 10000, 50000, 100000]\n",
        "    num_processes = 4  # Adjust as needed, depending on your system\n",
        "\n",
        "    # Measure execution time for each value of N\n",
        "    for N in N_values:\n",
        "        start_time = time.time()\n",
        "\n",
        "        # Create pool of worker processes\n",
        "        pool = Pool(num_processes)\n",
        "\n",
        "        # Create list of arguments for quarter_circle_area function\n",
        "        args_list = [(i, N) for i in range(N)]\n",
        "\n",
        "        # Compute areas in parallel\n",
        "        areas = pool.map(quarter_circle_area, args_list)\n",
        "\n",
        "        # Sum up the areas\n",
        "        total_area = sum(areas)\n",
        "\n",
        "        # Calculate approximation of π\n",
        "        approx_pi = 4 * total_area\n",
        "\n",
        "        end_time = time.time()\n",
        "        execution_time = end_time - start_time\n",
        "\n",
        "        print(f\"N = {N}: Approximation of π = {approx_pi}, Execution Time = {execution_time:.6f} seconds\")\n",
        "\n",
        "        # Close the pool of worker processes\n",
        "        pool.close()\n",
        "        pool.join()\n",
        "\n",
        "if __name__ == \"__main__\":\n",
        "    main()\n"
      ],
      "metadata": {
        "colab": {
          "base_uri": "https://localhost:8080/"
        },
        "id": "yzXi1thxid8h",
        "outputId": "25581ffb-2e32-44f4-ec16-34aadc676080"
      },
      "execution_count": 12,
      "outputs": [
        {
          "output_type": "stream",
          "name": "stdout",
          "text": [
            "N = 1000: Approximation of π = 3.1416035449129067, Execution Time = 0.054392 seconds\n",
            "N = 5000: Approximation of π = 3.1415936277920746, Execution Time = 0.085173 seconds\n",
            "N = 10000: Approximation of π = 3.1415929980246284, Execution Time = 0.058603 seconds\n",
            "N = 50000: Approximation of π = 3.141592684397157, Execution Time = 0.118010 seconds\n",
            "N = 100000: Approximation of π = 3.1415926644818337, Execution Time = 0.183111 seconds\n"
          ]
        }
      ]
    },
    {
      "cell_type": "code",
      "source": [
        "#Write a program in Python which uses distributed parallel computing via mi4pyto solve the problem.\n",
        "#Time Evaluation\n",
        "\n",
        "import math\n",
        "import time\n",
        "from mpi4py import MPI\n",
        "\n",
        "def quarter_circle_area(i, N, rank):\n",
        "    delta_x = 1.0 / N\n",
        "    x_i = (i + 0.5) * delta_x\n",
        "    return delta_x * math.sqrt(1 - x_i ** 2)\n",
        "\n",
        "def main():\n",
        "    comm = MPI.COMM_WORLD\n",
        "    rank = comm.Get_rank()\n",
        "    size = comm.Get_size()\n",
        "\n",
        "    # Define a range of values for N\n",
        "    N_values = [1000, 5000, 10000, 50000, 100000]\n",
        "\n",
        "    for N in N_values:\n",
        "        start_time = time.time()\n",
        "\n",
        "        num_rectangles_per_process = N // size\n",
        "\n",
        "        # Calculate start and end indices for this process\n",
        "        start_index = rank * num_rectangles_per_process\n",
        "        end_index = start_index + num_rectangles_per_process\n",
        "\n",
        "        # Calculate areas for this process\n",
        "        local_areas = [quarter_circle_area(i, N, rank) for i in range(start_index, end_index)]\n",
        "\n",
        "        # Gather all local areas to the root process\n",
        "        global_areas = comm.gather(local_areas, root=0)\n",
        "\n",
        "        if rank == 0:\n",
        "            # Flatten the list of global areas\n",
        "            global_areas_flat = [area for sublist in global_areas for area in sublist]\n",
        "\n",
        "            # Sum up the areas\n",
        "            total_area = sum(global_areas_flat)\n",
        "\n",
        "            # Calculate approximation of π\n",
        "            approx_pi = 4 * total_area\n",
        "\n",
        "            end_time = time.time()\n",
        "            execution_time = end_time - start_time\n",
        "\n",
        "            print(f\"N = {N}: Approximation of π = {approx_pi}, Execution Time = {execution_time:.6f} seconds\")\n",
        "\n",
        "if __name__ == \"__main__\":\n",
        "    main()\n"
      ],
      "metadata": {
        "colab": {
          "base_uri": "https://localhost:8080/"
        },
        "id": "ORbGMXL4i4QX",
        "outputId": "21f7a07a-8190-4be7-9d00-343ff8777240"
      },
      "execution_count": 13,
      "outputs": [
        {
          "output_type": "stream",
          "name": "stdout",
          "text": [
            "N = 1000: Approximation of π = 3.1416035449129067, Execution Time = 0.002110 seconds\n",
            "N = 5000: Approximation of π = 3.1415936277920746, Execution Time = 0.006284 seconds\n",
            "N = 10000: Approximation of π = 3.1415929980246284, Execution Time = 0.005625 seconds\n",
            "N = 50000: Approximation of π = 3.141592684397157, Execution Time = 0.027616 seconds\n",
            "N = 100000: Approximation of π = 3.1415926644818337, Execution Time = 0.069641 seconds\n"
          ]
        }
      ]
    }
  ]
}